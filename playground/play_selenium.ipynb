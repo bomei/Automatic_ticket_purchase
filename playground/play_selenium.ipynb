{
 "cells": [
  {
   "cell_type": "code",
   "execution_count": 3,
   "metadata": {
    "collapsed": true,
    "ExecuteTime": {
     "end_time": "2023-06-22T08:48:08.528701Z",
     "start_time": "2023-06-22T08:48:08.510843800Z"
    }
   },
   "outputs": [],
   "source": [
    "import os\n",
    "from bs4 import BeautifulSoup\n",
    "from selenium import webdriver\n",
    "import platform"
   ]
  },
  {
   "cell_type": "code",
   "execution_count": 7,
   "outputs": [
    {
     "ename": "TypeError",
     "evalue": "__init__() got multiple values for argument 'options'",
     "output_type": "error",
     "traceback": [
      "\u001B[1;31m---------------------------------------------------------------------------\u001B[0m",
      "\u001B[1;31mTypeError\u001B[0m                                 Traceback (most recent call last)",
      "\u001B[1;32m~\\AppData\\Local\\Temp/ipykernel_12000/3394648859.py\u001B[0m in \u001B[0;36m<module>\u001B[1;34m\u001B[0m\n\u001B[0;32m     18\u001B[0m \u001B[1;31m# chromedriver = os.path.join(os.getcwd(), 'chromedriver')\u001B[0m\u001B[1;33m\u001B[0m\u001B[1;33m\u001B[0m\u001B[1;33m\u001B[0m\u001B[0m\n\u001B[0;32m     19\u001B[0m \u001B[1;33m\u001B[0m\u001B[0m\n\u001B[1;32m---> 20\u001B[1;33m \u001B[0mdriver\u001B[0m \u001B[1;33m=\u001B[0m \u001B[0mwebdriver\u001B[0m\u001B[1;33m.\u001B[0m\u001B[0mChrome\u001B[0m\u001B[1;33m(\u001B[0m\u001B[0mchromedriver\u001B[0m\u001B[1;33m,\u001B[0m \u001B[0moptions\u001B[0m\u001B[1;33m=\u001B[0m\u001B[0moption\u001B[0m\u001B[1;33m)\u001B[0m\u001B[1;33m\u001B[0m\u001B[1;33m\u001B[0m\u001B[0m\n\u001B[0m",
      "\u001B[1;31mTypeError\u001B[0m: __init__() got multiple values for argument 'options'"
     ]
    }
   ],
   "source": [
    "option = webdriver.ChromeOptions()  # 默认Chrome浏览器\n",
    "# 关闭开发者模式, window.navigator.webdriver 控件检测到你是selenium进入，若关闭会导致出现滑块并无法进入。\n",
    "option.add_experimental_option('excludeSwitches', ['enable-automation'])\n",
    "option.add_argument('--disable-blink-features=AutomationControlled')\n",
    "# option.add_argument('headless')               # Chrome以后台模式进行，注释以进行调试\n",
    "# option.add_argument('window-size=1920x1080')  # 指定分辨率\n",
    "# option.add_argument('no-sandbox')             # 取消沙盒模式\n",
    "# option.add_argument('--disable-gpu')          # 禁用GPU加速\n",
    "# option.add_argument('disable-dev-shm-usage')  # 大量渲染时候写入/tmp而非/dev/shm\n",
    "# TODO: 这部分感觉没用\n",
    "if platform.system().lower() == 'linux':\n",
    "    chromedriver = os.path.join(os.getcwd(), 'chromedriver_linux')\n",
    "elif platform.system().lower() == 'windows':\n",
    "    chromedriver = os.path.join(os.getcwd(), 'chromedriver_windows')\n",
    "else:\n",
    "    chromedriver = os.path.join(os.getcwd(), 'chromedriver_mac')\n",
    "\n",
    "# chromedriver = os.path.join(os.getcwd(), 'chromedriver')\n",
    "\n",
    "driver = webdriver.Chrome(chromedriver, options=option)"
   ],
   "metadata": {
    "collapsed": false
   }
  },
  {
   "cell_type": "code",
   "execution_count": 9,
   "outputs": [],
   "source": [
    "driver = webdriver.Chrome()"
   ],
   "metadata": {
    "collapsed": false,
    "ExecuteTime": {
     "end_time": "2023-06-22T08:59:02.980939Z",
     "start_time": "2023-06-22T08:59:00.006538400Z"
    }
   }
  },
  {
   "cell_type": "code",
   "execution_count": 10,
   "outputs": [],
   "source": [
    "driver.get(\"https://www.selenium.dev/selenium/web/web-form.html\")"
   ],
   "metadata": {
    "collapsed": false,
    "ExecuteTime": {
     "end_time": "2023-06-22T08:59:25.481471600Z",
     "start_time": "2023-06-22T08:59:22.910648700Z"
    }
   }
  },
  {
   "cell_type": "code",
   "execution_count": 11,
   "outputs": [
    {
     "name": "stdout",
     "output_type": "stream",
     "text": [
      "Web form\n"
     ]
    }
   ],
   "source": [
    "title = driver.title\n",
    "print(title)"
   ],
   "metadata": {
    "collapsed": false,
    "ExecuteTime": {
     "end_time": "2023-06-22T08:59:51.933893Z",
     "start_time": "2023-06-22T08:59:51.893758900Z"
    }
   }
  },
  {
   "cell_type": "code",
   "execution_count": 12,
   "outputs": [],
   "source": [
    "driver.quit()"
   ],
   "metadata": {
    "collapsed": false,
    "ExecuteTime": {
     "end_time": "2023-06-22T09:03:44.618038400Z",
     "start_time": "2023-06-22T09:03:42.477279400Z"
    }
   }
  }
 ],
 "metadata": {
  "kernelspec": {
   "display_name": "Python 3",
   "language": "python",
   "name": "python3"
  },
  "language_info": {
   "codemirror_mode": {
    "name": "ipython",
    "version": 2
   },
   "file_extension": ".py",
   "mimetype": "text/x-python",
   "name": "python",
   "nbconvert_exporter": "python",
   "pygments_lexer": "ipython2",
   "version": "2.7.6"
  }
 },
 "nbformat": 4,
 "nbformat_minor": 0
}
